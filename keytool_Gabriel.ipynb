{
  "nbformat": 4,
  "nbformat_minor": 0,
  "metadata": {
    "colab": {
      "provenance": [],
      "authorship_tag": "ABX9TyOA0LiY7LOQiPkZFhETpnfP",
      "include_colab_link": true
    },
    "kernelspec": {
      "name": "python3",
      "display_name": "Python 3"
    },
    "language_info": {
      "name": "python"
    }
  },
  "cells": [
    {
      "cell_type": "markdown",
      "metadata": {
        "id": "view-in-github",
        "colab_type": "text"
      },
      "source": [
        "<a href=\"https://colab.research.google.com/github/Gazirr/Keytool/blob/main/keytool_Gabriel.ipynb\" target=\"_parent\"><img src=\"https://colab.research.google.com/assets/colab-badge.svg\" alt=\"Open In Colab\"/></a>"
      ]
    },
    {
      "cell_type": "code",
      "execution_count": null,
      "metadata": {
        "colab": {
          "base_uri": "https://localhost:8080/"
        },
        "id": "AYjBoCxuubpc",
        "outputId": "494b72e4-7b27-4e30-faea-0a369bd47d10"
      },
      "outputs": [
        {
          "output_type": "stream",
          "name": "stdout",
          "text": [
            "Requirement already satisfied: cryptography in /usr/local/lib/python3.12/dist-packages (43.0.3)\n",
            "Requirement already satisfied: cffi>=1.12 in /usr/local/lib/python3.12/dist-packages (from cryptography) (2.0.0)\n",
            "Requirement already satisfied: pycparser in /usr/local/lib/python3.12/dist-packages (from cffi>=1.12->cryptography) (2.23)\n"
          ]
        }
      ],
      "source": [
        "!pip install cryptography"
      ]
    },
    {
      "cell_type": "code",
      "source": [
        "!python3 sample_data/pykeytool.py --genkey"
      ],
      "metadata": {
        "colab": {
          "base_uri": "https://localhost:8080/"
        },
        "id": "74zr8njCvh2-",
        "outputId": "5e3b3eb4-b4b9-4437-f9b7-9f16d1f2254c"
      },
      "execution_count": null,
      "outputs": [
        {
          "output_type": "stream",
          "name": "stdout",
          "text": [
            "=== Simulador Keytool en Python ===\n",
            "Comandos disponibles:\n",
            "1 - Generar clave y almacén de claves\n",
            "2 - Generar CSR\n",
            "3 - Ayuda\n",
            "Selecciona una opción (1/2/3): 1\n",
            "=== Generar clave ===\n",
            "Introduce una contraseña para el almacén de claves: Monlau123\n",
            "Introduce una contraseña para la clave privada: Monlau123\n",
            "Keystore saved as keystore.json\n",
            "✅ Par de claves generado y guardado correctamente.\n"
          ]
        }
      ]
    },
    {
      "cell_type": "code",
      "source": [
        "pip install cryptography"
      ],
      "metadata": {
        "colab": {
          "base_uri": "https://localhost:8080/"
        },
        "id": "_jVe0QtluoMN",
        "outputId": "1c109915-8810-465a-cdf1-8fb892cf792b"
      },
      "execution_count": null,
      "outputs": [
        {
          "output_type": "stream",
          "name": "stdout",
          "text": [
            "Requirement already satisfied: cryptography in /usr/local/lib/python3.12/dist-packages (43.0.3)\n",
            "Requirement already satisfied: cffi>=1.12 in /usr/local/lib/python3.12/dist-packages (from cryptography) (2.0.0)\n",
            "Requirement already satisfied: pycparser in /usr/local/lib/python3.12/dist-packages (from cffi>=1.12->cryptography) (2.23)\n"
          ]
        }
      ]
    },
    {
      "cell_type": "code",
      "source": [],
      "metadata": {
        "id": "hTouNEussb2m"
      },
      "execution_count": null,
      "outputs": []
    },
    {
      "cell_type": "code",
      "source": [],
      "metadata": {
        "id": "_5-UfHpbeelz"
      },
      "execution_count": null,
      "outputs": []
    },
    {
      "cell_type": "code",
      "source": [
        "!python3 keytool.py\n",
        "\n",
        "\n"
      ],
      "metadata": {
        "colab": {
          "base_uri": "https://localhost:8080/"
        },
        "id": "dR8Q4ePTrfv_",
        "outputId": "b6bbaa43-d8a7-4af3-9855-5c1f93f83e3a"
      },
      "execution_count": 2,
      "outputs": [
        {
          "output_type": "stream",
          "name": "stdout",
          "text": [
            "\n",
            "--- Resultado help (saved stdout -> salidas_keytool/help_output_20251020_055233.txt, stderr -> salidas_keytool/help_error_20251020_055233.txt) ---\n",
            "\n",
            "\n",
            "--- STDERR ---\n",
            "\n",
            "Key and Certificate Management Tool\n",
            "\n",
            "Commands:\n",
            "\n",
            " -certreq            Generates a certificate request\n",
            " -changealias        Changes an entry's alias\n",
            " -delete             Deletes an entry\n",
            " -exportcert         Exports certificate\n",
            " -genkeypair         Generates a key pair\n",
            " -genseckey          Generates a secret key\n",
            " -gencert            Generates certificate from a certificate request\n",
            " -importcert         Imports a certificate or a certificate chain\n",
            " -importpass         Imports a password\n",
            " -importkeystore     Imports one or all entries from another keystore\n",
            " -keypasswd          Changes the key password of an entry\n",
            " -list               Lists entries in a keystore\n",
            " -printcert          Prints the content of a certificate\n",
            " -printcertreq       Prints the content of a certificate request\n",
            " -printcrl           Prints the content of a CRL file\n",
            " -storepasswd        Changes the store password of a keystore\n",
            "\n",
            "Use \"keytool -?, -h, or --help\" for this help message\n",
            "Use \"keytool -command_name --help\" for usage of command_name.\n",
            "Use the -conf <url> option to specify a pre-configured options file.\n",
            "\n",
            "\n",
            "(returncode=0)\n",
            "\n"
          ]
        }
      ]
    }
  ]
}